{
 "cells": [
  {
   "cell_type": "markdown",
   "metadata": {},
   "source": [
    "# Inferential statistics\n",
    "## Part III - Inferential Analysis\n",
    "\n",
    "We're now going to actually look for answers to the ongoing basketball discussions between you and your family. The main ones that keep being thrown around with no end in sight are the following:\n",
    "\n",
    "- Your grandmother says that your sister couldn't play in a professional basketball league (not only the WNBA, but ANY professional basketball league) because she's too skinny and lacks muscle.\n",
    "- Your sister says that most female professional players fail their free throws.\n",
    "- Your brother-in-law heard on the TV that the average assists among NBA (male) and WNBA (female) players is 52 for the 2016-2017 season. He is convinced this average would be higher if we only considered the players from the WNBA.\n",
    "\n",
    "Let's investigate these claims and see if we can find proofs to refute or support them.\n",
    "\n",
    "### Libraries\n",
    "Import the necessary libraries first."
   ]
  },
  {
   "cell_type": "code",
   "execution_count": 3,
   "metadata": {},
   "outputs": [],
   "source": [
    "# Libraries\n",
    "import math\n",
    "import pandas as pd\n",
    "import numpy as np\n",
    "from scipy import stats\n",
    "import matplotlib.pyplot as plt\n",
    "from scipy.stats import ttest_1samp\n",
    "pd.set_option('max_columns', 50)"
   ]
  },
  {
   "cell_type": "markdown",
   "metadata": {},
   "source": [
    "### Load the dataset\n",
    "\n",
    "Load the cleaned dataset."
   ]
  },
  {
   "cell_type": "code",
   "execution_count": 4,
   "metadata": {},
   "outputs": [
    {
     "data": {
      "text/html": [
       "<div>\n",
       "<style scoped>\n",
       "    .dataframe tbody tr th:only-of-type {\n",
       "        vertical-align: middle;\n",
       "    }\n",
       "\n",
       "    .dataframe tbody tr th {\n",
       "        vertical-align: top;\n",
       "    }\n",
       "\n",
       "    .dataframe thead th {\n",
       "        text-align: right;\n",
       "    }\n",
       "</style>\n",
       "<table border=\"1\" class=\"dataframe\">\n",
       "  <thead>\n",
       "    <tr style=\"text-align: right;\">\n",
       "      <th></th>\n",
       "      <th>Name</th>\n",
       "      <th>Team</th>\n",
       "      <th>Pos</th>\n",
       "      <th>Height</th>\n",
       "      <th>Weight</th>\n",
       "      <th>BMI</th>\n",
       "      <th>Birth_Place</th>\n",
       "      <th>Birthdate</th>\n",
       "      <th>Age</th>\n",
       "      <th>College</th>\n",
       "      <th>Experience</th>\n",
       "      <th>Games Played</th>\n",
       "      <th>MIN</th>\n",
       "      <th>FGM</th>\n",
       "      <th>FGA</th>\n",
       "      <th>FG%</th>\n",
       "      <th>3PM</th>\n",
       "      <th>3PA</th>\n",
       "      <th>3P%</th>\n",
       "      <th>FTM</th>\n",
       "      <th>FTA</th>\n",
       "      <th>FT%</th>\n",
       "      <th>OREB</th>\n",
       "      <th>DREB</th>\n",
       "      <th>REB</th>\n",
       "      <th>AST</th>\n",
       "      <th>STL</th>\n",
       "      <th>BLK</th>\n",
       "      <th>TO</th>\n",
       "      <th>PTS</th>\n",
       "      <th>DD2</th>\n",
       "      <th>TD3</th>\n",
       "    </tr>\n",
       "  </thead>\n",
       "  <tbody>\n",
       "    <tr>\n",
       "      <th>0</th>\n",
       "      <td>Aerial Powers</td>\n",
       "      <td>DAL</td>\n",
       "      <td>F</td>\n",
       "      <td>183</td>\n",
       "      <td>71</td>\n",
       "      <td>21.200991</td>\n",
       "      <td>US</td>\n",
       "      <td>January 17, 1994</td>\n",
       "      <td>23</td>\n",
       "      <td>Michigan State</td>\n",
       "      <td>2</td>\n",
       "      <td>8</td>\n",
       "      <td>173</td>\n",
       "      <td>30</td>\n",
       "      <td>85</td>\n",
       "      <td>35.3</td>\n",
       "      <td>12</td>\n",
       "      <td>32</td>\n",
       "      <td>37.5</td>\n",
       "      <td>21</td>\n",
       "      <td>26</td>\n",
       "      <td>80.8</td>\n",
       "      <td>6</td>\n",
       "      <td>22</td>\n",
       "      <td>28</td>\n",
       "      <td>12</td>\n",
       "      <td>3</td>\n",
       "      <td>6</td>\n",
       "      <td>12</td>\n",
       "      <td>93</td>\n",
       "      <td>0</td>\n",
       "      <td>0</td>\n",
       "    </tr>\n",
       "    <tr>\n",
       "      <th>1</th>\n",
       "      <td>Alana Beard</td>\n",
       "      <td>LA</td>\n",
       "      <td>G/F</td>\n",
       "      <td>185</td>\n",
       "      <td>73</td>\n",
       "      <td>21.329438</td>\n",
       "      <td>US</td>\n",
       "      <td>May 14, 1982</td>\n",
       "      <td>35</td>\n",
       "      <td>Duke</td>\n",
       "      <td>12</td>\n",
       "      <td>30</td>\n",
       "      <td>947</td>\n",
       "      <td>90</td>\n",
       "      <td>177</td>\n",
       "      <td>50.8</td>\n",
       "      <td>5</td>\n",
       "      <td>18</td>\n",
       "      <td>27.8</td>\n",
       "      <td>32</td>\n",
       "      <td>41</td>\n",
       "      <td>78.0</td>\n",
       "      <td>19</td>\n",
       "      <td>82</td>\n",
       "      <td>101</td>\n",
       "      <td>72</td>\n",
       "      <td>63</td>\n",
       "      <td>13</td>\n",
       "      <td>40</td>\n",
       "      <td>217</td>\n",
       "      <td>0</td>\n",
       "      <td>0</td>\n",
       "    </tr>\n",
       "    <tr>\n",
       "      <th>2</th>\n",
       "      <td>Alex Bentley</td>\n",
       "      <td>CON</td>\n",
       "      <td>G</td>\n",
       "      <td>170</td>\n",
       "      <td>69</td>\n",
       "      <td>23.875433</td>\n",
       "      <td>US</td>\n",
       "      <td>October 27, 1990</td>\n",
       "      <td>26</td>\n",
       "      <td>Penn State</td>\n",
       "      <td>4</td>\n",
       "      <td>26</td>\n",
       "      <td>617</td>\n",
       "      <td>82</td>\n",
       "      <td>218</td>\n",
       "      <td>37.6</td>\n",
       "      <td>19</td>\n",
       "      <td>64</td>\n",
       "      <td>29.7</td>\n",
       "      <td>35</td>\n",
       "      <td>42</td>\n",
       "      <td>83.3</td>\n",
       "      <td>4</td>\n",
       "      <td>36</td>\n",
       "      <td>40</td>\n",
       "      <td>78</td>\n",
       "      <td>22</td>\n",
       "      <td>3</td>\n",
       "      <td>24</td>\n",
       "      <td>218</td>\n",
       "      <td>0</td>\n",
       "      <td>0</td>\n",
       "    </tr>\n",
       "    <tr>\n",
       "      <th>3</th>\n",
       "      <td>Alex Montgomery</td>\n",
       "      <td>SAN</td>\n",
       "      <td>G/F</td>\n",
       "      <td>185</td>\n",
       "      <td>84</td>\n",
       "      <td>24.543462</td>\n",
       "      <td>US</td>\n",
       "      <td>December 11, 1988</td>\n",
       "      <td>28</td>\n",
       "      <td>Georgia Tech</td>\n",
       "      <td>6</td>\n",
       "      <td>31</td>\n",
       "      <td>721</td>\n",
       "      <td>75</td>\n",
       "      <td>195</td>\n",
       "      <td>38.5</td>\n",
       "      <td>21</td>\n",
       "      <td>68</td>\n",
       "      <td>30.9</td>\n",
       "      <td>17</td>\n",
       "      <td>21</td>\n",
       "      <td>81.0</td>\n",
       "      <td>35</td>\n",
       "      <td>134</td>\n",
       "      <td>169</td>\n",
       "      <td>65</td>\n",
       "      <td>20</td>\n",
       "      <td>10</td>\n",
       "      <td>38</td>\n",
       "      <td>188</td>\n",
       "      <td>2</td>\n",
       "      <td>0</td>\n",
       "    </tr>\n",
       "    <tr>\n",
       "      <th>4</th>\n",
       "      <td>Alexis Jones</td>\n",
       "      <td>MIN</td>\n",
       "      <td>G</td>\n",
       "      <td>175</td>\n",
       "      <td>78</td>\n",
       "      <td>25.469388</td>\n",
       "      <td>US</td>\n",
       "      <td>August 5, 1994</td>\n",
       "      <td>23</td>\n",
       "      <td>Baylor</td>\n",
       "      <td>R</td>\n",
       "      <td>24</td>\n",
       "      <td>137</td>\n",
       "      <td>16</td>\n",
       "      <td>50</td>\n",
       "      <td>32.0</td>\n",
       "      <td>7</td>\n",
       "      <td>20</td>\n",
       "      <td>35.0</td>\n",
       "      <td>11</td>\n",
       "      <td>12</td>\n",
       "      <td>91.7</td>\n",
       "      <td>3</td>\n",
       "      <td>9</td>\n",
       "      <td>12</td>\n",
       "      <td>12</td>\n",
       "      <td>7</td>\n",
       "      <td>0</td>\n",
       "      <td>14</td>\n",
       "      <td>50</td>\n",
       "      <td>0</td>\n",
       "      <td>0</td>\n",
       "    </tr>\n",
       "  </tbody>\n",
       "</table>\n",
       "</div>"
      ],
      "text/plain": [
       "              Name Team  Pos  Height  Weight        BMI Birth_Place  \\\n",
       "0    Aerial Powers  DAL    F     183      71  21.200991          US   \n",
       "1      Alana Beard   LA  G/F     185      73  21.329438          US   \n",
       "2     Alex Bentley  CON    G     170      69  23.875433          US   \n",
       "3  Alex Montgomery  SAN  G/F     185      84  24.543462          US   \n",
       "4     Alexis Jones  MIN    G     175      78  25.469388          US   \n",
       "\n",
       "           Birthdate  Age         College Experience  Games Played  MIN  FGM  \\\n",
       "0   January 17, 1994   23  Michigan State          2             8  173   30   \n",
       "1       May 14, 1982   35            Duke         12            30  947   90   \n",
       "2   October 27, 1990   26      Penn State          4            26  617   82   \n",
       "3  December 11, 1988   28    Georgia Tech          6            31  721   75   \n",
       "4     August 5, 1994   23          Baylor          R            24  137   16   \n",
       "\n",
       "   FGA   FG%  3PM  3PA   3P%  FTM  FTA   FT%  OREB  DREB  REB  AST  STL  BLK  \\\n",
       "0   85  35.3   12   32  37.5   21   26  80.8     6    22   28   12    3    6   \n",
       "1  177  50.8    5   18  27.8   32   41  78.0    19    82  101   72   63   13   \n",
       "2  218  37.6   19   64  29.7   35   42  83.3     4    36   40   78   22    3   \n",
       "3  195  38.5   21   68  30.9   17   21  81.0    35   134  169   65   20   10   \n",
       "4   50  32.0    7   20  35.0   11   12  91.7     3     9   12   12    7    0   \n",
       "\n",
       "   TO  PTS  DD2  TD3  \n",
       "0  12   93    0    0  \n",
       "1  40  217    0    0  \n",
       "2  24  218    0    0  \n",
       "3  38  188    2    0  \n",
       "4  14   50    0    0  "
      ]
     },
     "execution_count": 4,
     "metadata": {},
     "output_type": "execute_result"
    }
   ],
   "source": [
    "wnba = pd.read_csv('../data/wnba_clean.csv')\n",
    "wnba.head()"
   ]
  },
  {
   "cell_type": "markdown",
   "metadata": {},
   "source": [
    "# Question 1: Can my sister play in a professional female basketball league?\n",
    "\n",
    "As we said, you grandmother is convinced that your sister couldn't play in a professional league because of her physique and weight (her weight is 67kg). \n",
    "\n",
    "To find an actual answer to the question we first need to know what's the average weight of a professional female basketball player. The data we have only refers to the WNBA league and not to every female professional basketball league in the world, therefore we have no way of actually calculating it.\n",
    "\n",
    "Still, given that we do have *some* data we can **infer** it using a sample of players like the one we have. \n",
    "\n",
    "**How would you do it? Try and think about the requirements that your sample must satisfy in order to be used to infer the average weight. Do you feel it actually fulfills those requirements? Do you need to make any assumptions? We will calculate a confidence interval to do the inference, do you know any other ways to do the same?**"
   ]
  },
  {
   "cell_type": "code",
   "execution_count": 11,
   "metadata": {},
   "outputs": [],
   "source": [
    "# your answer here"
   ]
  },
  {
   "cell_type": "markdown",
   "metadata": {},
   "source": [
    "#### Solution\n",
    "The easiest way to infer an unknown population parameter is to find an interval estimate, computed from the statistics of the observed data, that might contain the true value of that parameter. This interval estimate is also known as confidence interval.\n",
    "\n",
    "In this case, we want to compute the confidence interval that might contain the true value of the average weight of female professional basketball players from the statistics observed in our available subset of data of that population: female players from the wnba.  \n",
    "\n",
    "To construct a confidence interval based on a normal model the first thing we need to check is that the probability distribution of the unknown parameter, which is the average weight, follows a normal distribution.\n",
    "\n",
    "The central limit theorem (CLT) states that if you have a population with mean $\\mu$ and standard deviation $\\sigma$ and take sufficiently large random samples from the population (n > 30), then the distribution of the sample means will be approximately normally distributed with mean $\\mu$ and standard deviation $\\frac{\\sigma}{\\sqrt{n}}$.\n",
    "\n",
    "Does our sample meet the requirements of the CLT? These requirements are:\n",
    "\n",
    "- The data must be sampled randomly. We DO NOT meet this requirement as our sample is exactly all the women that play in the WNBA for a specific season. By assuming that it is randomly sampled, we are introducing bias in our calculations. \n",
    "- The sample values must be independent of each other. We meet this condition as the data of one player does not provide any information of the data of another player. \n",
    "- The sample size must be sufficiently large, generally, more than 30 samples. We meet this requirement as our dataset includes more than 30 samples. \n",
    "\n",
    "Then, we can say that the probability distribution of the average weight is normal and we can use our dataset to approximate the population parameters and with them the parameters of the probability distribution of the average weight.\n",
    "\n",
    "To estimate the population parameters from our sample, we can use:\n",
    "\n",
    "- Mean\n",
    "\n",
    "$\\hat{\\mu} = \\mu_s$\n",
    "\n",
    "where $\\mu_s$ is the mean of our dataset.\n",
    "\n",
    "- Standard deviation\n",
    "\n",
    "$\\hat{\\sigma} = s = \\sqrt{\\frac{n}{n-1}}\\sigma_s$\n",
    "\n",
    "where $\\sigma_s$ is the standard deviation of our dataset.\n",
    "\n",
    "Then, the probability distribution of the average weight will be a normal $N(\\hat{\\mu}, \\frac{\\hat{\\sigma}}{\\sqrt{n}})$. \n",
    "\n",
    "We do know, however, that when we have a low number of samples or when the population standard deviation is unknown it is better to use the **Student's t distribution** since it better approximates a probability distribution that follow a normal distribution.\n",
    "\n",
    "For this reason, we can say the confidence interval for the average of a normal population with unknown variance is defined as:\n",
    "\n",
    "$IC_{1-\\alpha} =[\\hat{\\mu} - t_{n-1,\\frac{\\alpha}{2}}*\\frac{s}{\\sqrt{n}}, \\hat{\\mu} + t_{n-1,\\frac{\\alpha}{2}}*\\frac{s}{\\sqrt{n}}]$ \n",
    "\n"
   ]
  },
  {
   "cell_type": "markdown",
   "metadata": {},
   "source": [
    "Now that all the requirements have been taken into account, compute the confidence interval of the average weight with a confidence level of 95%."
   ]
  },
  {
   "cell_type": "code",
   "execution_count": 6,
   "metadata": {},
   "outputs": [],
   "source": [
    "# your code here"
   ]
  },
  {
   "cell_type": "code",
   "execution_count": 7,
   "metadata": {},
   "outputs": [
    {
     "name": "stdout",
     "output_type": "stream",
     "text": [
      "The confidence interval is (77.15461406720749, 80.80313241166576)\n",
      "The confidence interval is (77.15461406720749, 80.80313241166576)\n"
     ]
    }
   ],
   "source": [
    "#Solution\n",
    "\n",
    "# Parameters\n",
    "sample = wnba['Weight']\n",
    "alpha = 0.05\n",
    "n = len(sample)\n",
    "df = n - 1\n",
    "x = np.mean(sample)\n",
    "s = math.sqrt(n/df) * np.std(sample)\n",
    "t = stats.t.interval(1-alpha, df)[1]\n",
    "se = s/math.sqrt(n)\n",
    "\n",
    "# METHOD 1\n",
    "# Confidence interval\n",
    "ci = (x - (t * se) , x + (t * se))\n",
    "print(f'The confidence interval is {ci}')\n",
    "\n",
    "# METHOD 2\n",
    "# Confidence interval\n",
    "ci = stats.t.interval(1-alpha, df, loc=x, scale=se)\n",
    "print(f'The confidence interval is {ci}')"
   ]
  },
  {
   "cell_type": "markdown",
   "metadata": {},
   "source": [
    "**What can you say about these results?**"
   ]
  },
  {
   "cell_type": "code",
   "execution_count": 10,
   "metadata": {},
   "outputs": [],
   "source": [
    "#your-answer-here"
   ]
  },
  {
   "cell_type": "markdown",
   "metadata": {},
   "source": [
    "#### Solution\n",
    "You have found the confidence interval for the average weight of professional female basketball players! This interval may or may not contain the true value of the real average weight. The confidence level indicates that the frequency of possible confidence intervals that contain the true value of average weight is 95%. "
   ]
  },
  {
   "cell_type": "markdown",
   "metadata": {},
   "source": [
    "**If your sister weights 67kg what would you tell your grandmother in regards to her assumption?**"
   ]
  },
  {
   "cell_type": "code",
   "execution_count": 9,
   "metadata": {},
   "outputs": [],
   "source": [
    "#your-answer-here"
   ]
  },
  {
   "cell_type": "markdown",
   "metadata": {},
   "source": [
    "#### Solution\n",
    "\n",
    "It looks like that the average weight of a professional female basketball players falls between 77kg and 80kg which is quite higher than your sister's weight. The logic says that your grandmother may have a point and that your sister needs to either build some muscle and gain weight to reach the physical prowess required or give up her dreams of being a professional basketball player."
   ]
  },
  {
   "cell_type": "markdown",
   "metadata": {},
   "source": [
    "## Bonus: Can you plot the probability distribution of the average weight, indicating where the critical region is?"
   ]
  },
  {
   "cell_type": "code",
   "execution_count": 8,
   "metadata": {},
   "outputs": [],
   "source": [
    "# your code here"
   ]
  },
  {
   "cell_type": "code",
   "execution_count": 9,
   "metadata": {},
   "outputs": [
    {
     "data": {
      "image/png": "[encoded data removed]",
      "text/plain": [
       "<Figure size 720x360 with 1 Axes>"
      ]
     },
     "metadata": {
      "needs_background": "light"
     },
     "output_type": "display_data"
    }
   ],
   "source": [
    "# Solution\n",
    "\n",
    "# Create subplot\n",
    "f, ax = plt.subplots(1, 1, figsize=(10,5))\n",
    "\n",
    "# Find the values of the pdf (y) for the given weights (w)\n",
    "w = np.arange(x-7, x+7, 0.01)\n",
    "y = stats.t.pdf(w, df, loc=x, scale=se)\n",
    "\n",
    "# Plot pdf and fill area under the curve\n",
    "plt.plot(w, y, color='k')\n",
    "ax.fill_between(w, 0, y, color='#7181F7', label='Confidence Interval')\n",
    "ax.fill_between(w, 0, y, where= w < ci[0], color='#EA291C', label='Critical Region' )\n",
    "ax.fill_between(w, 0, y, where= w > ci[1], color='#EA291C')\n",
    "\n",
    "# Plot vertical line centered in μ\n",
    "mean_limit = stats.t.pdf(x, df, loc=x, scale=se)\n",
    "ax.vlines(x, 0, mean_limit, color='k', linestyle='--')\n",
    "plt.text(78.88, -0.03, 'μ', fontsize=14, color='k')\n",
    "\n",
    "# Plot horizontal line for 2σ distance\n",
    "std = [x-se, x+se]\n",
    "std_limit = stats.t.pdf(std, df, loc=x, scale=se)[0]\n",
    "ax.hlines(std_limit, x-se, x+se, color='k', linestyle='-')\n",
    "plt.text(78.3, 0.27, '1σ', fontsize=14, color='k')\n",
    "plt.text(79.15, 0.27, '1σ', fontsize=14, color='k')\n",
    "\n",
    "# Include a marker in the confidence interval limits\n",
    "limits = stats.t.pdf(ci, df, loc=x, scale=se)\n",
    "plt.scatter(ci, limits, marker='o', color='k')\n",
    "plt.text(ci[0]-1.2, limits[0], str(round(ci[0],2)), fontsize=14)\n",
    "plt.text(ci[1]+0.2, limits[1], str(round(ci[1],2)), fontsize=14)\n",
    "\n",
    "# Plot the μ and σ values\n",
    "plt.text(83, 0.25, f'μ={round(x,2)}', fontsize=16)\n",
    "plt.text(83, 0.20, f'σ={round(se,2)}', fontsize=16)\n",
    "\n",
    "# Add legend and enhance visualization\n",
    "plt.legend(prop={'size': 14})\n",
    "ax.set_ylim(-0.1, 0.5)\n",
    "plt.savefig('../images/weight', dpi=200)\n",
    "plt.show()"
   ]
  },
  {
   "cell_type": "markdown",
   "metadata": {},
   "source": [
    "# Question 2: Do female professional basketball players fail the majority of their free throws?\n",
    "\n",
    "You do not agree with your sister when she says that most female players fail their free throws. You decide to try and estimate the percentage of players that fail more than 40% of their free throws using, you guessed it, the WNBA sample.\n",
    "\n",
    "**How would you do it? Try and think about the requirements that your sample must satisfy in order to be used to infer the proportion of players that miss more than 40% of their free throws. Do you feel it actually fulfills those requirements? Do you need to make any assumptions?**"
   ]
  },
  {
   "cell_type": "code",
   "execution_count": 10,
   "metadata": {},
   "outputs": [],
   "source": [
    "# your answer here"
   ]
  },
  {
   "cell_type": "markdown",
   "metadata": {},
   "source": [
    "#### Solution\n",
    "\n",
    "We can compute the confidence interval that might contain the proportion of female professional basketball players that miss more than 40% of free throws from the statistics observed in our available sample of that population: female players from the WNBA.  \n",
    "\n",
    "To compute the confidence interval, first we need to know which is the probability distribution of the unknown parameter, which is the proportion of female players that miss more than 40% of free throws. \n",
    "\n",
    "According to the CLT for proportions, given a population with proportion $p$ and $q = 1 − p$, the sample proportion of a randomly chosen sample of size n is approximately a normal distribution with $μ = \\hat{p}$ and $σ = \\sqrt{\\frac{\\hat{p}\\hat{q}}{n}}$. \n",
    "\n",
    "Then, according to the CLT, we know that the probability distribution of the proportion is normal. \n",
    "\n",
    "However, to be able to compute the confidence interval we also need to make sure meet all the CLT requirements. You may refer to the previous question to check that we do, in fact, meet the requirements except for the one related to our sample being actually random.\n",
    "\n",
    "Our interval can be calculated as follows:\n",
    "\n",
    "$IC_{1-\\alpha} =[\\hat{p} - Z_{\\frac{\\alpha}{2}}*\\sqrt{\\frac{\\hat{p}\\hat{q}}{n}}, \\hat{p} + Z_{\\frac{\\alpha}{2}}*\\sqrt{\\frac{\\hat{p}\\hat{q}}{n}}]$\n",
    "\n",
    "**Now that all the requirements have been taken into account, compute the confidence interval of the proportion with a confidence level of 95%:**"
   ]
  },
  {
   "cell_type": "code",
   "execution_count": 12,
   "metadata": {},
   "outputs": [],
   "source": [
    "# your code here"
   ]
  },
  {
   "cell_type": "code",
   "execution_count": 13,
   "metadata": {},
   "outputs": [],
   "source": [
    "#Solution\n",
    "\n",
    "# Parameters\n",
    "alpha = 0.05\n",
    "n = len(wnba)\n",
    "z = stats.norm.interval(1-alpha)[1]\n",
    "missed_more_than_40 = len(wnba[wnba['FT%'] < 60])\n",
    "missed_less_or_equal_than_40 = n - missed_more_than_40\n",
    "p = missed_more_than_40 / n\n",
    "q = 1 - p\n",
    "se = math.sqrt((p * q) / n)\n",
    "\n",
    "# METHOD 1\n",
    "# Confidence interval\n",
    "ci = (p - (z * se), p + (z * se))\n",
    "print(f\"Confidence interval 95%: {ci}\")\n",
    "\n",
    "# METHOD 2\n",
    "# Confidence interval\n",
    "ci = stats.norm.interval(1-alpha, loc=p, scale=se)\n",
    "print(f\"Confidence interval 95%: {ci}\")"
   ]
  },
  {
   "cell_type": "markdown",
   "metadata": {},
   "source": [
    "**What can you comment about our result? What would you tell your sister?**"
   ]
  },
  {
   "cell_type": "code",
   "execution_count": 15,
   "metadata": {},
   "outputs": [],
   "source": [
    "#your-answer-here"
   ]
  },
  {
   "cell_type": "markdown",
   "metadata": {},
   "source": [
    "#### Solution\n",
    "\n",
    "You have found the confidence interval (with 95% confidence) for the proportion of professional female basketball players that miss more than 40% of free throws! The proportion is quite low and therefore we can say that there is not enough statistical significance to say that the majority of female basketball players miss the majority of their free throws"
   ]
  },
  {
   "cell_type": "markdown",
   "metadata": {},
   "source": [
    "# Bonus: Can you plot the probability distribution of the proportion of missed free throws, indicating where the critical region is?"
   ]
  },
  {
   "cell_type": "code",
   "execution_count": 14,
   "metadata": {},
   "outputs": [
    {
     "data": {
      "image/png": "[encoded data removed]",
      "text/plain": [
       "<Figure size 720x360 with 1 Axes>"
      ]
     },
     "metadata": {
      "needs_background": "light"
     },
     "output_type": "display_data"
    }
   ],
   "source": [
    "# Create subplot\n",
    "f, ax = plt.subplots(1, 1, figsize=(10,5))\n",
    "\n",
    "# Find the values of the pdf (y) for the given proportions of free throws (ft)\n",
    "ft = np.arange(p-0.1, p+0.1, 0.0002)\n",
    "y = stats.norm.pdf(ft, loc=p, scale=se)\n",
    "\n",
    "# Plot pdf and fill area under the curve\n",
    "plt.plot(ft, y, color='k')\n",
    "ax.fill_between(ft, 0, y, color='#7181F7', label='Confidence Interval')\n",
    "ax.fill_between(ft, 0, y, where= ft < ci[0], color='#EA291C', label='Critical Region' )\n",
    "ax.fill_between(ft, 0, y, where= ft > ci[1], color='#EA291C')\n",
    "\n",
    "# Plot vertical line centered in μ\n",
    "mean_limit = stats.norm.pdf(p, loc=p, scale=se)\n",
    "ax.vlines(p, 0, mean_limit, color='k', linestyle='--')\n",
    "plt.text(0.097, -1, 'μ', fontsize=14, color='k')\n",
    "\n",
    "# Plot horizontal line for 2σ distance\n",
    "std = [p-se, p+se]\n",
    "std_limit = stats.norm.pdf(std, loc=p, scale=se)[0]\n",
    "ax.hlines(std_limit, p-se, p+se, color='k')\n",
    "plt.text(0.085, 10, '1σ', fontsize=14, color='k')\n",
    "plt.text(0.105, 10, '1σ', fontsize=14, color='k')\n",
    "\n",
    "# Include a marker in the confidence interval limits\n",
    "limits = stats.norm.pdf(ci, loc=p, scale=se)\n",
    "plt.scatter(ci, limits, marker='o', color='k')\n",
    "plt.text(ci[0]-0.014, limits[0], str(round(ci[0],2)), fontsize=14)\n",
    "plt.text(ci[1]+0.002, limits[1], str(round(ci[1],2)), fontsize=14)\n",
    "\n",
    "# Plot the μ and σ values\n",
    "plt.text(0.165, 7.5, f'μ={round(p,2)}', fontsize=16)\n",
    "plt.text(0.165, 5.5, f'σ={round(se,2)}', fontsize=16)\n",
    "\n",
    "# Add legend and enhance visualization\n",
    "plt.legend(prop={'size': 14})\n",
    "ax.set_ylim(-2, 17)\n",
    "plt.savefig('../images/proportion', dpi=200)\n",
    "plt.show()"
   ]
  },
  {
   "cell_type": "markdown",
   "metadata": {},
   "source": [
    "# Question 3: Is the average number of assists for WNBA players only higher than the average for WNBA and NBA players together?"
   ]
  },
  {
   "cell_type": "markdown",
   "metadata": {},
   "source": [
    "Your brother-in-law is convinced that the average assists for female professional players is higher than the average of both female and male players combined (which is 52 for the 2016-2017 season). You would like to actually prove if this is true or not but you remember your stats teacher saying \"you can't *prove* anything, you just can say that *you are not* saying foolishness\".\n",
    "\n",
    "**How would you do it? Try and think about the requirements that your sample must satisfy in order to do that. Do you feel it actually fulfills those requirements? Do you need to make any assumptions?**"
   ]
  },
  {
   "cell_type": "code",
   "execution_count": 16,
   "metadata": {},
   "outputs": [],
   "source": [
    "#your-answer-here"
   ]
  },
  {
   "cell_type": "markdown",
   "metadata": {},
   "source": [
    "#### Solution\n",
    "\n",
    "One option is to do a t-test, which tells you how significant the differences between groups are and how likely it is that they have arised by chance and not because of actual differences between the groups. Those differences are measured in averages. \n",
    "\n",
    "In our case let's use a two-tailed one sample t-test for the average assists. This test will help us verify the null hypothesis that the expected value of a sample of independent observations is equal to the given population mean. Our hypothesis are:\n",
    "\n",
    "$H_0$: the mean number of assists is equal to 52.\n",
    "\n",
    "$H_a$: the mean number of assists is different from 52.\n",
    "\n",
    "The requirements that we need to satisfy in order to trust our test result are as follows:\n",
    "\n",
    "- The probability distribution of the avg number of assists must be continuous (interval/ratio).\n",
    "- The observations are independent of one another.\n",
    "- The probability distribution of the avg number of assists should be approximately normally distributed.\n",
    "- The sample we are using is a random sample.\n",
    "\n",
    "The only one we are not satisfying is the random sample one which means that we are introducing a bias in our results.\n",
    "\n",
    "In any case if we can reject the null hypothesis (that says that the average number of assists for female players is 52) we can look at the result statistic and see if it's higher or lower than 52.\n",
    "\n",
    "\n",
    "We can also do a ONE-tailed one-sample t-test. The difference here is that the **Ha** hypothesis in the two-tailed simply affirms that the mean is different, but not higher or lower (for that we can check the result statistic of the test. The one-tailed test only detects if there's a difference in one direction (higher or lower) but not both at the same time. In this case our p-value would be half that of the two sided test since we are assuming that the difference can only go in one direction.\n",
    "\n",
    "The one-tailed test hypothesis would be as follows:\n",
    "\n",
    "$H_0$: the mean number of assists is less or equal than 52.\n",
    "\n",
    "$H_a$: the mean number of assists is greater than 52."
   ]
  },
  {
   "cell_type": "markdown",
   "metadata": {},
   "source": [
    "**Use a two-tailed one-sample t-test to see if we can reject (or not) the null hypothesis with a 95% confidence level.**"
   ]
  },
  {
   "cell_type": "code",
   "execution_count": 15,
   "metadata": {},
   "outputs": [],
   "source": [
    "#your code here"
   ]
  },
  {
   "cell_type": "code",
   "execution_count": 16,
   "metadata": {},
   "outputs": [
    {
     "name": "stdout",
     "output_type": "stream",
     "text": [
      "Null hypothesis rejected.\n",
      "The mean number of assissts is lower than 52.\n",
      "Statistic:  -2.1499947192482898\n",
      "p-value:  0.033261541354107166\n"
     ]
    }
   ],
   "source": [
    "# Solution\n",
    "\n",
    "# TWO TAILED TEST\n",
    "# Ho: the mean number of assissts is equal to 52.\n",
    "# Ha: the mean number of assissts is different to 52.\n",
    "\n",
    "alpha = 0.05\n",
    "population_mean = 52\n",
    "st_two, p = stats.ttest_1samp(wnba['AST'], population_mean)\n",
    "\n",
    "if p < alpha:\n",
    "    print(\"Null hypothesis rejected.\")\n",
    "    if st_two < 0:\n",
    "        print(f\"The mean number of assissts is lower than {population_mean}.\")\n",
    "    else: \n",
    "        print(f\"The mean number of assissts is greater than {population_mean}.\")\n",
    "else:\n",
    "    print(\"Null hypothesis can't be rejected.\")\n",
    "    \n",
    "print('Statistic: ', st_two)\n",
    "print('p-value: ', p)"
   ]
  },
  {
   "cell_type": "code",
   "execution_count": 18,
   "metadata": {},
   "outputs": [],
   "source": [
    "#your-answer-here"
   ]
  },
  {
   "cell_type": "markdown",
   "metadata": {},
   "source": [
    "#### Solution\n",
    "\n",
    "Since the p-value is 0.03 (meaning that there's only a 3% chance, if the null hypothesis is true, that we would see the results we have) which is less than our alpha of 0.05 we can reject the null hypothesis and accept that the mean assists for female players is different than the the mean assists of the set of female and male players. Looking at the statistic we see that it's -2.14 and therefore it seems like the mean number of assists for female players only is lower than that of the set.\n",
    "\n",
    "Remember that we are not proving anything, we are just being sure that what we are saying is not foolishness."
   ]
  },
  {
   "cell_type": "markdown",
   "metadata": {},
   "source": [
    "**Now use a one-tailed one-sample t-test to see if we can reject (or not) the null hypothesis with a 95% confidence level.**"
   ]
  },
  {
   "cell_type": "code",
   "execution_count": 20,
   "metadata": {},
   "outputs": [],
   "source": [
    "#your-answer-here"
   ]
  },
  {
   "cell_type": "code",
   "execution_count": 17,
   "metadata": {
    "scrolled": true
   },
   "outputs": [
    {
     "name": "stdout",
     "output_type": "stream",
     "text": [
      "Null hypothesis can't be rejected.\n",
      "Statistic:  -2.1499947192482898\n",
      "p-value:  0.016630770677053583\n"
     ]
    }
   ],
   "source": [
    "# Solution\n",
    "\n",
    "# ONE TAILED TEST  - OPTION 2\n",
    "# Ho: the mean number of assissts is less or equal than 52.\n",
    "# Ha: the mean number of assissts is greater than 52.\n",
    "\n",
    "alpha = 0.05;\n",
    "population_mean = 52\n",
    "st_one, p_two_tailed = stats.ttest_1samp(wnba['AST'], population_mean)\n",
    "\n",
    "p_one_tailed = p_two_tailed / 2\n",
    "\n",
    "if p_one_tailed < alpha and st_one > 0:\n",
    "    print(\"Null hypothesis rejected.\")\n",
    "    print(f\"The mean number of assissts is greater than {population_mean}.\")\n",
    "else:\n",
    "    print(\"Null hypothesis can't be rejected.\")\n",
    "    \n",
    "print('Statistic: ', st_one)\n",
    "print('p-value: ', p_one_tailed)"
   ]
  },
  {
   "cell_type": "markdown",
   "metadata": {},
   "source": [
    "#### Solution\n",
    "\n",
    "In this case we cannot reject the null hypothesis since the statistic is negative, and our null hypothesis claims that the mean number of assists is less or equal than 52. In conclusion, there is not enough statistical signicance to assert that the mean number of assists is less or equal than 52."
   ]
  },
  {
   "cell_type": "markdown",
   "metadata": {},
   "source": [
    "# Bonus: Can you plot the resulting t-distribution of both tests? Indicate where the is the critical region and where does your statistic fall.**"
   ]
  },
  {
   "cell_type": "code",
   "execution_count": 21,
   "metadata": {},
   "outputs": [
    {
     "data": {
      "image/png": "[encoded data removed]",
      "text/plain": [
       "<Figure size 1800x432 with 2 Axes>"
      ]
     },
     "metadata": {
      "needs_background": "light"
     },
     "output_type": "display_data"
    }
   ],
   "source": [
    "# Create subplot\n",
    "f, ax = plt.subplots(1, 2, figsize=(25,6), sharey=True)\n",
    "\n",
    "# Find the values of the pdf (y) for the given weights (w)\n",
    "x = np.arange(-4, 4, 0.01)\n",
    "y = stats.t.pdf(x, df)\n",
    "\n",
    "# Plot pdf and fill area under the curve\n",
    "ax[0].plot(x, y, color='k')\n",
    "ax[1].plot(x, y, color='k')\n",
    "\n",
    "# Compute critical region values for both test\n",
    "ci_one = stats.t.interval(0.90, df)\n",
    "ci_two = stats.t.interval(0.95, df)\n",
    "ax[0].fill_between(x, 0, y, where= x < ci_two[0], color='#EA291C', label='Critical Region')\n",
    "ax[0].fill_between(x, 0, y, where= x > ci_two[1], color='#EA291C')\n",
    "ax[1].fill_between(x, 0, y, where= x > ci_one[1], color='#EA291C')\n",
    "\n",
    "# Plot vertical line centered in the value of the statistic\n",
    "st_two_limit = stats.t.pdf(st_two, df)\n",
    "st_one_limit = stats.t.pdf(st_one, df)\n",
    "ax[0].vlines(st_two, 0, st_two_limit, color='b', linewidth=3, label='Statistic')\n",
    "ax[1].vlines(st_two, 0, st_two_limit, color='b', linewidth=3)\n",
    "\n",
    "# Add titles\n",
    "ax[0].set_title('Two-tailed One Sample T-test', fontsize=20, fontweight=600)\n",
    "ax[1].set_title('One-tailed One Sample T-test', fontsize=20, fontweight=600)\n",
    "\n",
    "# Add legend and enhance visualization\n",
    "f.legend(loc='center right', prop={'size': 14})\n",
    "plt.savefig('../images/t-student.png', dpi=200)\n",
    "plt.show()"
   ]
  },
  {
   "cell_type": "markdown",
   "metadata": {},
   "source": [
    "# Bonus: Satisfying your curiosity\n",
    "\n",
    "You finally managed to solve your family's debates over basketball! While you were doing that you started to take an interest in the normal distribution.\n",
    "\n",
    "You read that the normal distribution is present in a lot of natural phenomenons, like blood pressure, IQ, weight and height. If, for example, we could plot the distribution of the weights of every human on the planet right now it would have the shape of a normal distribution.\n",
    "\n",
    "In light of this you would like to see if it's possible to check if the distribution of the weights of the WNBA players is a sample distribution that comes from a population that has a normal distribution, because theoretically this should be the case.\n",
    "\n",
    "**How would you try to demonstrate that our sample fits a normal distribution? What kind of test would you use? Would you have to make any assumptions?**"
   ]
  },
  {
   "cell_type": "code",
   "execution_count": 22,
   "metadata": {},
   "outputs": [],
   "source": [
    "#your-answer-here"
   ]
  },
  {
   "cell_type": "markdown",
   "metadata": {},
   "source": [
    "#### Solution\n",
    "A test that we can use for this specific problem is what's called a \"goodness of fit\" test, that can tell us how well a set of observations fits some kind of distribution, in this case a normal distribution. There are various kind of goodness of fit test that can help us accept or refute the null hypothesis that our sample comes from a population with a normal distribution. One of those is the Anderson-Darling test:\n",
    "\n",
    "- [Anderson-Darling Test](https://docs.scipy.org/doc/scipy/reference/generated/scipy.stats.anderson.html)\n",
    "\n",
    "We don't need to make any assumption regarding our sample to use this kind of test.\n",
    "\n",
    "No data analyst can remember or even know every kind of test that can be used and for this reason we invite you to research the Anderson-Darling test a bit so that you better understand the process.\n",
    "\n",
    "**Read the Scipy documentation related to this test and apply it with a confidence level of 95%. Write down the null and the alternative hypothesis. Most importantly, understand what is the output of the Scipy function so that you're able to interpret the results correctly.**"
   ]
  },
  {
   "cell_type": "code",
   "execution_count": 19,
   "metadata": {},
   "outputs": [],
   "source": [
    "# your code here"
   ]
  },
  {
   "cell_type": "code",
   "execution_count": 18,
   "metadata": {},
   "outputs": [
    {
     "name": "stdout",
     "output_type": "stream",
     "text": [
      "Null hypothesis can't be rejected.\n"
     ]
    }
   ],
   "source": [
    "# Solution\n",
    "\n",
    "# ANDERSON-DARLING TEST\n",
    "# Ho: the sample of weights of our data is drawn from a normal population.\n",
    "# Ha: the sample of weights of our data is not drawn from a normal population.\n",
    "\n",
    "st, cv, alpha = stats.anderson(wnba['Weight'], dist='norm')\n",
    "\n",
    "if st > cv[2]:\n",
    "    print(\"Null hypothesis rejected.\")\n",
    "else:\n",
    "    print(\"Null hypothesis can't be rejected.\")"
   ]
  },
  {
   "cell_type": "markdown",
   "metadata": {},
   "source": [
    "**What are your comments in regards to the results of the test?**"
   ]
  },
  {
   "cell_type": "code",
   "execution_count": 24,
   "metadata": {},
   "outputs": [],
   "source": [
    "#your-answer-here"
   ]
  },
  {
   "cell_type": "markdown",
   "metadata": {},
   "source": [
    "#### Solution\n",
    "\n",
    "According to the test we cannot refute the possibility that our sample comes from a normally distributed population. This doesn't demonstrate that it does, but at the moment we have no proof of the contrary."
   ]
  },
  {
   "cell_type": "code",
   "execution_count": null,
   "metadata": {},
   "outputs": [],
   "source": []
  }
 ],
 "metadata": {
  "kernelspec": {
   "display_name": "Python 3",
   "language": "python",
   "name": "python3"
  },
  "language_info": {
   "codemirror_mode": {
    "name": "ipython",
    "version": 3
   },
   "file_extension": ".py",
   "mimetype": "text/x-python",
   "name": "python",
   "nbconvert_exporter": "python",
   "pygments_lexer": "ipython3",
   "version": "3.7.1"
  }
 },
 "nbformat": 4,
 "nbformat_minor": 2
}
